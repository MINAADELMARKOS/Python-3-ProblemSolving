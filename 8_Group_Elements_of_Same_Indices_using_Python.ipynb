{
  "nbformat": 4,
  "nbformat_minor": 0,
  "metadata": {
    "colab": {
      "provenance": [],
      "authorship_tag": "ABX9TyOLXXMeHKEBpiWI3IpcZgYk",
      "include_colab_link": true
    },
    "kernelspec": {
      "name": "python3",
      "display_name": "Python 3"
    },
    "language_info": {
      "name": "python"
    }
  },
  "cells": [
    {
      "cell_type": "markdown",
      "metadata": {
        "id": "view-in-github",
        "colab_type": "text"
      },
      "source": [
        "<a href=\"https://colab.research.google.com/github/MINAADELMARKOS/Python-3-ProblemSolving/blob/main/8_Group_Elements_of_Same_Indices_using_Python.ipynb\" target=\"_parent\"><img src=\"https://colab.research.google.com/assets/colab-badge.svg\" alt=\"Open In Colab\"/></a>"
      ]
    },
    {
      "cell_type": "code",
      "source": [
        "inputLists = [[10, 20, 30], [40, 50, 60], [70, 80, 90]]\n",
        "outputLists = []\n",
        "index = 0\n",
        "\n",
        "for i in range(len(inputLists[0])):\n",
        "    outputLists.append([])\n",
        "    for j in range(len(inputLists)):\n",
        "        outputLists[index].append(inputLists[j][ index])\n",
        "    index = index + 1\n",
        "a, b, c = outputLists[0], outputLists[1], outputLists[2]\n",
        "print(a, b, c)"
      ],
      "metadata": {
        "colab": {
          "base_uri": "https://localhost:8080/"
        },
        "id": "YbUI_Kmh7opP",
        "outputId": "cb52d334-5ffc-4eb0-a619-b25df65bafb5"
      },
      "execution_count": null,
      "outputs": [
        {
          "output_type": "stream",
          "name": "stdout",
          "text": [
            "[10, 40, 70] [20, 50, 80] [30, 60, 90]\n"
          ]
        }
      ]
    }
  ]
}