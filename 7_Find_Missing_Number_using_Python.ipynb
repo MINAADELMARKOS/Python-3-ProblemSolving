{
  "nbformat": 4,
  "nbformat_minor": 0,
  "metadata": {
    "colab": {
      "provenance": [],
      "authorship_tag": "ABX9TyNZclA2sCViqcvxhHgNjrOJ",
      "include_colab_link": true
    },
    "kernelspec": {
      "name": "python3",
      "display_name": "Python 3"
    },
    "language_info": {
      "name": "python"
    }
  },
  "cells": [
    {
      "cell_type": "markdown",
      "metadata": {
        "id": "view-in-github",
        "colab_type": "text"
      },
      "source": [
        "<a href=\"https://colab.research.google.com/github/MINAADELMARKOS/Python-3-ProblemSolving/blob/main/7_Find_Missing_Number_using_Python.ipynb\" target=\"_parent\"><img src=\"https://colab.research.google.com/assets/colab-badge.svg\" alt=\"Open In Colab\"/></a>"
      ]
    },
    {
      "cell_type": "markdown",
      "source": [
        "Finding the missing number in an array is a popular coding interview question. According to LeetCode, this question is popular in the interviews of companies like Amazon, Adobe, Microsoft, LinkedIn, and many more. If you want to learn how to find the missing number in an array, this article is for you. This article will take you through how to find the missing number using Python.\n",
        "\n",
        "# **Find Missing Number using Python**\n",
        "Finding the missing number in an array means finding the numbers missing from the array according to the range of values inside the array. Most of the time, the question you get based on this problem is like:\n",
        "\n",
        "Given an array containing a range of numbers from 0 to n with a missing number, find the missing number in the input array.\n",
        "To find the missing number in an array, we need to iterate over the input array and store the numbers in another array that we didn’t find in the input array while iterating over it. Below is how you can find the missing number in an array or a list using the Python programming language:"
      ],
      "metadata": {
        "id": "AXua22lGwl8v"
      }
    },
    {
      "cell_type": "code",
      "source": [
        "missing_number=list(range(16))\n",
        "missing_number"
      ],
      "metadata": {
        "colab": {
          "base_uri": "https://localhost:8080/"
        },
        "id": "NuyZblVRw9Tk",
        "outputId": "54bdc75e-aae5-409e-a66b-cf2f5bf23354"
      },
      "execution_count": null,
      "outputs": [
        {
          "output_type": "execute_result",
          "data": {
            "text/plain": [
              "[0, 1, 2, 3, 4, 5, 6, 7, 8, 9, 10, 11, 12, 13, 14, 15]"
            ]
          },
          "metadata": {},
          "execution_count": 182
        }
      ]
    },
    {
      "cell_type": "code",
      "source": [
        "missing_number.remove(12)\n",
        "missing_number.remove(4)\n",
        "missing_number.remove(9)\n",
        "missing_number.remove(5)"
      ],
      "metadata": {
        "id": "IQQufjbRyKuG"
      },
      "execution_count": null,
      "outputs": []
    },
    {
      "cell_type": "code",
      "source": [
        "missing_number"
      ],
      "metadata": {
        "colab": {
          "base_uri": "https://localhost:8080/"
        },
        "id": "-LV3m3rsx9Gs",
        "outputId": "66cfbc2a-02be-431c-efcc-61fa3953ed6f"
      },
      "execution_count": null,
      "outputs": [
        {
          "output_type": "execute_result",
          "data": {
            "text/plain": [
              "[0, 1, 2, 3, 6, 7, 8, 10, 11, 13, 14, 15]"
            ]
          },
          "metadata": {},
          "execution_count": 184
        }
      ]
    },
    {
      "cell_type": "code",
      "source": [
        "def findMissingvalue(x):\n",
        "  numb_set = set(x)\n",
        "  loss_numb = []\n",
        "  for item in numb_set:\n",
        "    if item not in range(max(x)+1):\n",
        "      loss_numb.append(item)\n",
        "  return loss_numb"
      ],
      "metadata": {
        "id": "DCjZmNgJx9Jf"
      },
      "execution_count": null,
      "outputs": []
    },
    {
      "cell_type": "code",
      "source": [
        "def findMissingvalue(x):\n",
        "  numb_set = set(x)\n",
        "  loss_numb = []\n",
        "  for item in range(max(x)+1):\n",
        "    if item not in numb_set:\n",
        "      loss_numb.append(item)\n",
        "  return loss_numb"
      ],
      "metadata": {
        "id": "ZUejiQyz0Z5X"
      },
      "execution_count": null,
      "outputs": []
    },
    {
      "cell_type": "code",
      "source": [
        "findMissingvalue(missing_number)"
      ],
      "metadata": {
        "colab": {
          "base_uri": "https://localhost:8080/"
        },
        "id": "oh6x1Wbgx9MS",
        "outputId": "69403fc0-32be-40b1-f690-5e236764f718"
      },
      "execution_count": null,
      "outputs": [
        {
          "output_type": "execute_result",
          "data": {
            "text/plain": [
              "[4, 5, 9, 12]"
            ]
          },
          "metadata": {},
          "execution_count": 187
        }
      ]
    },
    {
      "cell_type": "markdown",
      "source": [
        "# **My Work**"
      ],
      "metadata": {
        "id": "ahvpTGZdx9s3"
      }
    },
    {
      "cell_type": "code",
      "source": [
        "# create list in range 0 - 10\n",
        "arr_1=list(range(11))\n",
        "arr_1"
      ],
      "metadata": {
        "colab": {
          "base_uri": "https://localhost:8080/"
        },
        "id": "AA2jsu6CrQzJ",
        "outputId": "d2139f91-1d59-4eef-b347-d7b91170e455"
      },
      "execution_count": null,
      "outputs": [
        {
          "output_type": "execute_result",
          "data": {
            "text/plain": [
              "[0, 1, 2, 3, 4, 5, 6, 7, 8, 9, 10]"
            ]
          },
          "metadata": {},
          "execution_count": 188
        }
      ]
    },
    {
      "cell_type": "code",
      "source": [
        "# remove 4 from list\n",
        "arr_1.remove(4)"
      ],
      "metadata": {
        "id": "903-_qc0rYnX"
      },
      "execution_count": null,
      "outputs": []
    },
    {
      "cell_type": "code",
      "source": [
        "# new list after removing 4\n",
        "arr_1"
      ],
      "metadata": {
        "colab": {
          "base_uri": "https://localhost:8080/"
        },
        "id": "qOldJ4HKrb13",
        "outputId": "313b2d66-baec-467b-a07e-7e945637c815"
      },
      "execution_count": null,
      "outputs": [
        {
          "output_type": "execute_result",
          "data": {
            "text/plain": [
              "[0, 1, 2, 3, 5, 6, 7, 8, 9, 10]"
            ]
          },
          "metadata": {},
          "execution_count": 190
        }
      ]
    },
    {
      "cell_type": "code",
      "source": [
        "# the approach i will use in this case is\n",
        "# sum of the main list - sum of list with range high number will get the loss number i needed\n",
        "arr_2 = []\n",
        "if sum(arr_1) != sum(range(max(arr_1))):\n",
        "  arr_2.append(sum(range(max(arr_1)+1))-sum(arr_1))"
      ],
      "metadata": {
        "id": "jNrwlBUguiZI"
      },
      "execution_count": null,
      "outputs": []
    },
    {
      "cell_type": "code",
      "source": [
        "arr_2"
      ],
      "metadata": {
        "colab": {
          "base_uri": "https://localhost:8080/"
        },
        "id": "Ouff_e5BsepY",
        "outputId": "a5b68b65-a3f3-4d40-ae30-c961588d3195"
      },
      "execution_count": null,
      "outputs": [
        {
          "output_type": "execute_result",
          "data": {
            "text/plain": [
              "[4]"
            ]
          },
          "metadata": {},
          "execution_count": 192
        }
      ]
    }
  ]
}