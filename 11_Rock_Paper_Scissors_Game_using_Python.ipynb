{
  "nbformat": 4,
  "nbformat_minor": 0,
  "metadata": {
    "colab": {
      "provenance": [],
      "authorship_tag": "ABX9TyOD9nQUnvBT8YRX4/KhrU+T",
      "include_colab_link": true
    },
    "kernelspec": {
      "name": "python3",
      "display_name": "Python 3"
    },
    "language_info": {
      "name": "python"
    }
  },
  "cells": [
    {
      "cell_type": "markdown",
      "metadata": {
        "id": "view-in-github",
        "colab_type": "text"
      },
      "source": [
        "<a href=\"https://colab.research.google.com/github/MINAADELMARKOS/Python-3-ProblemSolving/blob/main/11_Rock_Paper_Scissors_Game_using_Python.ipynb\" target=\"_parent\"><img src=\"https://colab.research.google.com/assets/colab-badge.svg\" alt=\"Open In Colab\"/></a>"
      ]
    },
    {
      "cell_type": "code",
      "execution_count": null,
      "metadata": {
        "id": "ryEZUEfDVI_L"
      },
      "outputs": [],
      "source": [
        "import random"
      ]
    },
    {
      "cell_type": "code",
      "source": [
        "player1 = input(\"Choose Paper,Rock or scissor : \").lower()\n",
        "player2 = random.choice(['paper','rock','scissor']).lower()\n",
        "print(\"Player1 choose:\",player1, \"VS\" ,\"Player2 choose:\",player2)\n",
        "\n",
        "if player1 == 'paper' and player2 == 'rock':\n",
        "  print(\"Player1 won\")\n",
        "elif player1 == 'rock' and player2 == 'scissor':\n",
        "  print(\"Player1 won\")\n",
        "elif player1 == '' and player2 == '':\n",
        "  print(\"Player1 won\")\n",
        "elif player1 == player2:\n",
        "  print('tie')\n",
        "else:\n",
        "  print(\"Player2 won\")"
      ],
      "metadata": {
        "colab": {
          "base_uri": "https://localhost:8080/"
        },
        "id": "gulr1g7gW9in",
        "outputId": "93578cd0-246d-42e0-8f07-6010d441da4a"
      },
      "execution_count": null,
      "outputs": [
        {
          "output_type": "stream",
          "name": "stdout",
          "text": [
            "Choose Paper,Rock or scissor : paper\n",
            "Player1 choose: paper VS Player2 choose: scissor\n",
            "Player2 won\n"
          ]
        }
      ]
    }
  ]
}