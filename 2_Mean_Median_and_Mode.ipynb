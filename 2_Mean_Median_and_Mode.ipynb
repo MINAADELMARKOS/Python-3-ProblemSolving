{
  "nbformat": 4,
  "nbformat_minor": 0,
  "metadata": {
    "colab": {
      "provenance": [],
      "authorship_tag": "ABX9TyOTi3U7arNmAp0XmZPjc1Ze",
      "include_colab_link": true
    },
    "kernelspec": {
      "name": "python3",
      "display_name": "Python 3"
    },
    "language_info": {
      "name": "python"
    }
  },
  "cells": [
    {
      "cell_type": "markdown",
      "metadata": {
        "id": "view-in-github",
        "colab_type": "text"
      },
      "source": [
        "<a href=\"https://colab.research.google.com/github/MINAADELMARKOS/Python-3-ProblemSolving/blob/main/2_Mean_Median_and_Mode.ipynb\" target=\"_parent\"><img src=\"https://colab.research.google.com/assets/colab-badge.svg\" alt=\"Open In Colab\"/></a>"
      ]
    },
    {
      "cell_type": "markdown",
      "source": [
        "# **Mean Median and Mode using Python**"
      ],
      "metadata": {
        "id": "DRxx4XbH6foc"
      }
    },
    {
      "cell_type": "markdown",
      "source": [
        "> **Mean**\n",
        "\n",
        "The mean is the average value of all the values in a dataset. To calculate the mean value of a dataset, we first need to find the sum of all the values and then divide the sum of all the values by the total number of values. So here’s how to calculate the mean using Python:"
      ],
      "metadata": {
        "id": "Es5wbuT56nUN"
      }
    },
    {
      "cell_type": "code",
      "source": [
        "list1 = [12, 16, 20, 20, 12, 30, 25, 23, 24, 20]\n",
        "\n",
        "mean = sum(list1)/len(list1)\n",
        "\n",
        "print(mean)"
      ],
      "metadata": {
        "colab": {
          "base_uri": "https://localhost:8080/"
        },
        "id": "SiriB67c6kp0",
        "outputId": "1832d14d-0200-4a2f-eda4-d09dc758f070"
      },
      "execution_count": null,
      "outputs": [
        {
          "output_type": "stream",
          "name": "stdout",
          "text": [
            "20.2\n"
          ]
        }
      ]
    },
    {
      "cell_type": "markdown",
      "source": [
        "> **Median**\n",
        "\n",
        "The Median is the middle value among all the values in sorted order. Here we need to calculate the mid-value of all the values in a dataset. But before calculating the Median, we need to arrange all the values in sorted order. There are two different ways of calculating the median value:\n",
        "\n",
        "when the total number of values is even:\n",
        "\n",
        "          Median  = [(n/2)th term + {(n/2)+1}th]/2\n",
        "when the total number of values is odd:\n",
        "\n",
        "          Median = {(n+1)/2}thterm\n",
        "Now below is how you can calculate the median using Python:"
      ],
      "metadata": {
        "id": "0XS18Eot7Evc"
      }
    },
    {
      "cell_type": "code",
      "source": [
        "list1 = [12, 16, 20, 13, 12, 30, 25, 23, 24, 25]\n",
        "list1.sort()\n",
        "\n",
        "if len(list1) % 2 == 0:\n",
        "  m1 = list1[len(list1)//2]\n",
        "  m2 = list1[len(list1)//2 - 1]\n",
        "  median = (m1 + m2)/ 2\n",
        "else:\n",
        "  m = list1[len(list1)//2]\n",
        "  median = m\n",
        "\n",
        "print(median)\n",
        "\n",
        "#hint\n",
        "# len(list1)//2\n",
        "# list1[len(list1)//2]"
      ],
      "metadata": {
        "colab": {
          "base_uri": "https://localhost:8080/"
        },
        "id": "i1OYcFjq7Sb9",
        "outputId": "f634211e-d7e4-4951-8e5a-c8da6b2b5e3e"
      },
      "execution_count": null,
      "outputs": [
        {
          "output_type": "stream",
          "name": "stdout",
          "text": [
            "21.5\n"
          ]
        }
      ]
    },
    {
      "cell_type": "markdown",
      "source": [
        "> **Mode**\n",
        "\n",
        "Mode is the most frequently occurring value among all the values. Below is how we can calculate the mode value of a dataset using Python:\n",
        "\n"
      ],
      "metadata": {
        "id": "8xcuVrhc-ogG"
      }
    },
    {
      "cell_type": "code",
      "source": [
        "from sys import modules\n",
        "list1 = [12, 16, 20, 20, 12, 30, 25, 23, 24, 20]\n",
        "\n",
        "frequency = {}\n",
        "\n",
        "for i in list1:\n",
        "  frequency.setdefault(i,0)\n",
        "  frequency[i]+=1\n",
        "\n",
        "# frequency= {12: 2, 16: 1, 20: 3, 30: 1, 25: 1, 23: 1, 24: 1}\n",
        "\n",
        "repeated_value = max(frequency.values())\n",
        "\n",
        "for key, value in frequency.items():\n",
        "  if repeated_value == value:\n",
        "    mode = key\n",
        "    print(mode)"
      ],
      "metadata": {
        "colab": {
          "base_uri": "https://localhost:8080/"
        },
        "id": "nEBQFCx1-tOI",
        "outputId": "82991ad4-f72f-4d7e-dfee-feada8032ab0"
      },
      "execution_count": null,
      "outputs": [
        {
          "output_type": "stream",
          "name": "stdout",
          "text": [
            "20\n"
          ]
        }
      ]
    }
  ]
}