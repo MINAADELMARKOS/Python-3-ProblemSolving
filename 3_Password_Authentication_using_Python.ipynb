{
  "nbformat": 4,
  "nbformat_minor": 0,
  "metadata": {
    "colab": {
      "provenance": [],
      "authorship_tag": "ABX9TyOE+jVYyHHQWi9g/e+G+Xby",
      "include_colab_link": true
    },
    "kernelspec": {
      "name": "python3",
      "display_name": "Python 3"
    },
    "language_info": {
      "name": "python"
    }
  },
  "cells": [
    {
      "cell_type": "markdown",
      "metadata": {
        "id": "view-in-github",
        "colab_type": "text"
      },
      "source": [
        "<a href=\"https://colab.research.google.com/github/MINAADELMARKOS/Python-3-ProblemSolving/blob/main/3_Password_Authentication_using_Python.ipynb\" target=\"_parent\"><img src=\"https://colab.research.google.com/assets/colab-badge.svg\" alt=\"Open In Colab\"/></a>"
      ]
    },
    {
      "cell_type": "markdown",
      "source": [
        "# **What is a Password Authentication System?**\n",
        "\n",
        "A password authentication system is a system that is used for the identification of a user. Think of it like a login screen that you see while logging in to your Facebook account. It asks for your email or a username and then it asks for your password. If you have entered the correct password then it verifies you as the real user.\n",
        "\n",
        "Creating a logic-based password authentication system is also a popular question in the coding interviews. So, in the section below, I will take you through how to create a password authentication system using Python.\n",
        "\n",
        "Password Authentication using Python\n",
        "To create a password authentication system using Python you have to follow the steps mentioned below:\n",
        "\n",
        "Create a dictionary of usernames with their passwords.\n",
        "Then you have to ask for user input as the username by using the input function in Python.\n",
        "Then you have to use the getpass module in Python to ask for user input as the password. Here we are using the getpass module instead of the input function to make sure that the user doesn’t get to see what he/she write in the password field.\n",
        "So let’s follow the steps mentioned above to create a password authentication system using Python:"
      ],
      "metadata": {
        "id": "18XiDf4VLsbk"
      }
    },
    {
      "cell_type": "code",
      "execution_count": null,
      "metadata": {
        "colab": {
          "base_uri": "https://localhost:8080/"
        },
        "id": "mopvmZxxKMCx",
        "outputId": "0ffa24dc-8755-4a0f-db8c-68a3ab32cef1"
      },
      "outputs": [
        {
          "output_type": "stream",
          "name": "stdout",
          "text": [
            "Enter Your Username : kharwal.aman\n",
            "Enter Your Password : ··········\n",
            "Verified\n"
          ]
        }
      ],
      "source": [
        "import getpass\n",
        "database = {\"aman.kharwal\": \"123456\", \"kharwal.aman\": \"654321\"}\n",
        "username = input(\"Enter Your Username : \")\n",
        "password = getpass.getpass(\"Enter Your Password : \")\n",
        "for i in database.keys():\n",
        "    if username == i:\n",
        "      if password == database.get(i):\n",
        "        print(\"Verified\")\n",
        "      else:\n",
        "\n",
        "        password = getpass.getpass(\"sorry -- Enter Your Password : \")"
      ]
    },
    {
      "cell_type": "code",
      "source": [
        "import getpass\n",
        "database = {\"aman.kharwal\": \"123456\", \"kharwal.aman\": \"654321\"}\n",
        "username = input(\"Enter Your Username : \")\n",
        "password = getpass.getpass(\"Enter Your Password : \")\n",
        "for i in database.keys():\n",
        "    if username == i:\n",
        "        while password != database.get(i):\n",
        "            password = getpass.getpass(\"Enter Your Password Again : \")\n",
        "        break\n",
        "print(\"Verified\")"
      ],
      "metadata": {
        "colab": {
          "base_uri": "https://localhost:8080/"
        },
        "id": "dcEwmGdHKfys",
        "outputId": "4965f65c-0341-4a35-96f4-20786f458676"
      },
      "execution_count": null,
      "outputs": [
        {
          "output_type": "stream",
          "name": "stdout",
          "text": [
            "Enter Your Username : 54\n",
            "Enter Your Password : ··········\n",
            "Verified\n"
          ]
        }
      ]
    }
  ]
}