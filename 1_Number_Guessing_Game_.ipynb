{
  "nbformat": 4,
  "nbformat_minor": 0,
  "metadata": {
    "colab": {
      "provenance": [],
      "authorship_tag": "ABX9TyNiE8zMuxYId+RLM6GyYNAV",
      "include_colab_link": true
    },
    "kernelspec": {
      "name": "python3",
      "display_name": "Python 3"
    },
    "language_info": {
      "name": "python"
    }
  },
  "cells": [
    {
      "cell_type": "markdown",
      "metadata": {
        "id": "view-in-github",
        "colab_type": "text"
      },
      "source": [
        "<a href=\"https://colab.research.google.com/github/MINAADELMARKOS/Python-3-ProblemSolving/blob/main/1_Number_Guessing_Game_.ipynb\" target=\"_parent\"><img src=\"https://colab.research.google.com/assets/colab-badge.svg\" alt=\"Open In Colab\"/></a>"
      ]
    },
    {
      "cell_type": "markdown",
      "source": [
        "To create a guessing game, we need to write a program to select a random number between 1 and 10. To give hints to the user, we can use conditional statements to tell the user if the guessed number is smaller, greater than or equal to the randomly selected number.\n",
        "\n",
        "So below is how you can write a program to create a number guessing game using Python:"
      ],
      "metadata": {
        "id": "8EDmdUda0gOy"
      }
    },
    {
      "cell_type": "code",
      "source": [
        "import random\n",
        "\n",
        "n = random.randrange(1,20)\n",
        "guess_num = int(input(\"Write The Number : \"))\n",
        "\n",
        "while n != guess_num:\n",
        "  if guess_num < n:\n",
        "    print(\"Your Number too Low, try again\")\n",
        "    guess_num = int(input(\"Write The Number : \"))\n",
        "  elif  guess_num > n:\n",
        "    print(\"Your Number too High, try again\")\n",
        "    guess_num = int(input(\"Write The Number : \"))\n",
        "  else:\n",
        "    break\n",
        "\n",
        "print(\"Your Guessed is Correct \")"
      ],
      "metadata": {
        "colab": {
          "base_uri": "https://localhost:8080/"
        },
        "id": "DwNbVKiF006-",
        "outputId": "f54aabd4-a990-4d98-a4c0-e9e5a2d44c87"
      },
      "execution_count": null,
      "outputs": [
        {
          "output_type": "stream",
          "name": "stdout",
          "text": [
            "Write The Number : 15\n",
            "Your Number too High, try again\n",
            "Write The Number : 10\n",
            "Your Guessed is Correct \n"
          ]
        }
      ]
    }
  ]
}