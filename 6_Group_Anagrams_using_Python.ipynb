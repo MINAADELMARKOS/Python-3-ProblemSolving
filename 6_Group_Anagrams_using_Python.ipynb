{
  "nbformat": 4,
  "nbformat_minor": 0,
  "metadata": {
    "colab": {
      "provenance": [],
      "authorship_tag": "ABX9TyOh6x/oHWn+MqLdeJ25WVZ3",
      "include_colab_link": true
    },
    "kernelspec": {
      "name": "python3",
      "display_name": "Python 3"
    },
    "language_info": {
      "name": "python"
    }
  },
  "cells": [
    {
      "cell_type": "markdown",
      "metadata": {
        "id": "view-in-github",
        "colab_type": "text"
      },
      "source": [
        "<a href=\"https://colab.research.google.com/github/MINAADELMARKOS/Python-3-ProblemSolving/blob/main/6_Group_Anagrams_using_Python.ipynb\" target=\"_parent\"><img src=\"https://colab.research.google.com/assets/colab-badge.svg\" alt=\"Open In Colab\"/></a>"
      ]
    },
    {
      "cell_type": "markdown",
      "source": [
        "# **Group Anagramus With python**\n",
        "\n",
        "**Grouping anagrams** is one of the popular questions in coding interviews. Here you will be given a list of words, and you have to write an algorithm to group all the words which are anagrams of each other. So below is how you can write a Python function to group anagrams:\n",
        "\n"
      ],
      "metadata": {
        "id": "Z72Y0--EjPuJ"
      }
    },
    {
      "cell_type": "code",
      "source": [
        "word_list = [\"percussion\", \"supersonic\", \"car\", \"tree\", \"boy\", \"girl\", \"arc\"]\n",
        "words = [\"tea\", \"eat\", \"bat\", \"ate\", \"arc\", \"car\"]"
      ],
      "metadata": {
        "id": "VmBnHLari7dj"
      },
      "execution_count": null,
      "outputs": []
    },
    {
      "cell_type": "code",
      "source": [
        "from collections import defaultdict"
      ],
      "metadata": {
        "id": "JO4CB42kjO-h"
      },
      "execution_count": null,
      "outputs": []
    },
    {
      "cell_type": "code",
      "source": [
        "#dict with vaule as a list\n",
        "def_dict = defaultdict(list)\n",
        "\n",
        "for i in word_list:\n",
        "  sorted_i = ''.join(sorted(i))\n",
        "  def_dict[sorted_i].append(i)\n",
        "print(def_dict)"
      ],
      "metadata": {
        "colab": {
          "base_uri": "https://localhost:8080/"
        },
        "id": "EXIMVoTWjfi5",
        "outputId": "7b3e66a9-46a2-4140-d442-62d7ca0a5ff2"
      },
      "execution_count": null,
      "outputs": [
        {
          "output_type": "stream",
          "name": "stdout",
          "text": [
            "defaultdict(<class 'list'>, {'ceinoprssu': ['percussion', 'supersonic'], 'acr': ['car', 'arc'], 'eert': ['tree'], 'boy': ['boy'], 'gilr': ['girl']})\n"
          ]
        }
      ]
    },
    {
      "cell_type": "code",
      "source": [
        "#dict with vaule as a list\n",
        "def_dict = defaultdict(list)\n",
        "\n",
        "for i in words:\n",
        "  sorted_i = ''.join(sorted(i))\n",
        "  def_dict[sorted_i].append(i)\n",
        "print(def_dict)"
      ],
      "metadata": {
        "colab": {
          "base_uri": "https://localhost:8080/"
        },
        "id": "pqDlTI5ykLay",
        "outputId": "0d6a2ec7-3646-4848-857b-d387653545db"
      },
      "execution_count": null,
      "outputs": [
        {
          "output_type": "stream",
          "name": "stdout",
          "text": [
            "defaultdict(<class 'list'>, {'aet': ['tea', 'eat', 'ate'], 'abt': ['bat'], 'acr': ['arc', 'car']})\n"
          ]
        }
      ]
    },
    {
      "cell_type": "code",
      "source": [
        "name= 'mina'\n",
        "sorted(name)"
      ],
      "metadata": {
        "colab": {
          "base_uri": "https://localhost:8080/"
        },
        "id": "T4wS1zT7ge_K",
        "outputId": "71349aeb-77b5-4bf3-a595-624ec6fe382f"
      },
      "execution_count": null,
      "outputs": [
        {
          "output_type": "execute_result",
          "data": {
            "text/plain": [
              "['a', 'i', 'm', 'n']"
            ]
          },
          "metadata": {},
          "execution_count": 38
        }
      ]
    }
  ]
}