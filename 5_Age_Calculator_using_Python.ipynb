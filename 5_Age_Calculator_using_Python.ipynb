{
  "nbformat": 4,
  "nbformat_minor": 0,
  "metadata": {
    "colab": {
      "provenance": [],
      "authorship_tag": "ABX9TyPkHMYJwUbU+JXB/98Iw+Ti",
      "include_colab_link": true
    },
    "kernelspec": {
      "name": "python3",
      "display_name": "Python 3"
    },
    "language_info": {
      "name": "python"
    }
  },
  "cells": [
    {
      "cell_type": "markdown",
      "metadata": {
        "id": "view-in-github",
        "colab_type": "text"
      },
      "source": [
        "<a href=\"https://colab.research.google.com/github/MINAADELMARKOS/Python-3-ProblemSolving/blob/main/5_Age_Calculator_using_Python.ipynb\" target=\"_parent\"><img src=\"https://colab.research.google.com/assets/colab-badge.svg\" alt=\"Open In Colab\"/></a>"
      ]
    },
    {
      "cell_type": "markdown",
      "source": [
        "# **Age Calculator is an amazing application to create as a beginner in any programming language. To create an age calculator, you need two dates:**\n",
        "\n",
        "-  today’s date\n",
        "-  date of birth\n",
        "\n",
        "You can either ask the user for both dates or just ask for the date of birth and use today’s date from the computer itself. Asking for the birthday only seems like a more user-friendly option. So here’s how to create an age calculator using Python:"
      ],
      "metadata": {
        "id": "eKumXwGqJWpF"
      }
    },
    {
      "cell_type": "code",
      "execution_count": null,
      "metadata": {
        "id": "giwO_DPqJOHw"
      },
      "outputs": [],
      "source": [
        "from datetime import datetime, timedelta\n",
        "from dateutil.relativedelta import relativedelta"
      ]
    },
    {
      "cell_type": "code",
      "source": [
        "while True:\n",
        "\n",
        "  x= int(input(\"Write your year was born : \"))\n",
        "  if x < datetime.now().year:\n",
        "    age_year = datetime.now()-relativedelta(years=x)\n",
        "    print(f\"You have {age_year.year} year And {age_year.month} months And {age_year.day} Days \")\n",
        "  elif x > datetime.now().year:\n",
        "    break"
      ],
      "metadata": {
        "colab": {
          "base_uri": "https://localhost:8080/"
        },
        "id": "w5DVZSd0LOHN",
        "outputId": "99381180-a45b-4d31-c77e-ae3cea99a500"
      },
      "execution_count": null,
      "outputs": [
        {
          "name": "stdout",
          "output_type": "stream",
          "text": [
            "Write your year was born : 1998\n",
            "You have 24 year And 12 months And 6 Days \n",
            "Write your year was born : 2025\n"
          ]
        }
      ]
    },
    {
      "cell_type": "code",
      "source": [
        "datetime.now() + timedelta(days=1)"
      ],
      "metadata": {
        "colab": {
          "base_uri": "https://localhost:8080/"
        },
        "id": "p54d-7JWK118",
        "outputId": "f799f612-cb9d-419d-d01c-a4ae253da068"
      },
      "execution_count": null,
      "outputs": [
        {
          "output_type": "execute_result",
          "data": {
            "text/plain": [
              "datetime.datetime(2022, 12, 7, 11, 32, 44, 271945)"
            ]
          },
          "metadata": {},
          "execution_count": 37
        }
      ]
    },
    {
      "cell_type": "code",
      "source": [
        "datetime.now() + timedelta(days=730)"
      ],
      "metadata": {
        "colab": {
          "base_uri": "https://localhost:8080/"
        },
        "id": "vZMheXrcK5vb",
        "outputId": "10852529-16c2-45d4-a919-e1527624124f"
      },
      "execution_count": null,
      "outputs": [
        {
          "output_type": "execute_result",
          "data": {
            "text/plain": [
              "datetime.datetime(2024, 12, 5, 11, 32, 44, 292037)"
            ]
          },
          "metadata": {},
          "execution_count": 38
        }
      ]
    },
    {
      "cell_type": "code",
      "source": [
        "mm=datetime.now()-relativedelta(years=1998)"
      ],
      "metadata": {
        "id": "3aHOgMC0LDKd"
      },
      "execution_count": null,
      "outputs": []
    },
    {
      "cell_type": "code",
      "source": [
        "print(f\"You have {mm.year} year And {mm.month} months And {mm.day} Days \")"
      ],
      "metadata": {
        "colab": {
          "base_uri": "https://localhost:8080/"
        },
        "id": "2W10Oy2yMkKt",
        "outputId": "b7fc9c1d-9ba2-44a1-aaec-98d65b45a7f7"
      },
      "execution_count": null,
      "outputs": [
        {
          "output_type": "stream",
          "name": "stdout",
          "text": [
            "You have 24 year And 12 months And 6 Days \n"
          ]
        }
      ]
    },
    {
      "cell_type": "code",
      "source": [
        "type(datetime.now().year)"
      ],
      "metadata": {
        "colab": {
          "base_uri": "https://localhost:8080/"
        },
        "id": "L2tVjJvrLxV9",
        "outputId": "7c130fec-91aa-4d92-baaa-4ede815c364b"
      },
      "execution_count": null,
      "outputs": [
        {
          "output_type": "execute_result",
          "data": {
            "text/plain": [
              "int"
            ]
          },
          "metadata": {},
          "execution_count": 41
        }
      ]
    },
    {
      "cell_type": "code",
      "source": [
        "# def ageCalculator(y, m, d):\n",
        "#     import datetime\n",
        "#     today = datetime.datetime.now().date()\n",
        "#     dob = datetime.date(y, m, d)\n",
        "#     age = int((today-dob).days / 365.25)\n",
        "#     print(age)\n",
        "# ageCalculator(1998, 9, 3)"
      ],
      "metadata": {
        "colab": {
          "base_uri": "https://localhost:8080/"
        },
        "id": "_mA0tWzmOHG8",
        "outputId": "dd1de73b-be91-4fb9-e5e7-61fa7c9faec7"
      },
      "execution_count": null,
      "outputs": [
        {
          "output_type": "stream",
          "name": "stdout",
          "text": [
            "24\n"
          ]
        }
      ]
    }
  ]
}