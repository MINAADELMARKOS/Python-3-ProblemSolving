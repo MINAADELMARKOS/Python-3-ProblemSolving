{
  "nbformat": 4,
  "nbformat_minor": 0,
  "metadata": {
    "colab": {
      "provenance": [],
      "authorship_tag": "ABX9TyMR4tomaGXvrgGg9nu1YQ6L",
      "include_colab_link": true
    },
    "kernelspec": {
      "name": "python3",
      "display_name": "Python 3"
    },
    "language_info": {
      "name": "python"
    }
  },
  "cells": [
    {
      "cell_type": "markdown",
      "metadata": {
        "id": "view-in-github",
        "colab_type": "text"
      },
      "source": [
        "<a href=\"https://colab.research.google.com/github/MINAADELMARKOS/Python-3-ProblemSolving/blob/main/9_Calculate_the_Execution_Time.ipynb\" target=\"_parent\"><img src=\"https://colab.research.google.com/assets/colab-badge.svg\" alt=\"Open In Colab\"/></a>"
      ]
    },
    {
      "cell_type": "markdown",
      "source": [
        "## **Execution Time of a Python Program**\n",
        "It is important to calculate the execution time when working on a large project. When working on a large project, we have several approaches in mind. The best should be the one that takes the shortest execution time in all scenarios.\n",
        "\n",
        "So to calculate the execution time of a Python program, we need to follow the steps mentioned below:\n",
        "\n",
        "-  First, store the time of initiation of the program into a variable;\n",
        "Write the Python program;\n",
        "-  Store the end time of the program into a variable;\n",
        "-  Subtract the time of initiation of the program from the end time of the program;\n",
        "In the end, you will get the execution time of your program in seconds."
      ],
      "metadata": {
        "id": "hsUSbBdF8dAA"
      }
    },
    {
      "cell_type": "code",
      "execution_count": null,
      "metadata": {
        "id": "IPDg_2AU8M62"
      },
      "outputs": [],
      "source": [
        "from time import time"
      ]
    },
    {
      "cell_type": "code",
      "source": [
        "start = time()"
      ],
      "metadata": {
        "id": "rR4goABh8zfJ"
      },
      "execution_count": null,
      "outputs": []
    },
    {
      "cell_type": "code",
      "source": [
        "word = \"Artificial Intelligence\"\n",
        "text = word.split()\n",
        "a = \" \"\n",
        "for i in text:\n",
        "    a = a+str(i[0]).upper()\n",
        "print(a)\n",
        "\n",
        "end = time()"
      ],
      "metadata": {
        "colab": {
          "base_uri": "https://localhost:8080/"
        },
        "id": "BxVy68a882RY",
        "outputId": "1f360966-1619-471d-9a53-450410c10e0f"
      },
      "execution_count": null,
      "outputs": [
        {
          "output_type": "stream",
          "name": "stdout",
          "text": [
            " AI\n"
          ]
        }
      ]
    },
    {
      "cell_type": "code",
      "source": [
        "execution_time = end - start\n",
        "print(\"Execution Time : \", execution_time)"
      ],
      "metadata": {
        "colab": {
          "base_uri": "https://localhost:8080/"
        },
        "id": "wCeggOYk9DWI",
        "outputId": "131d1d17-3f3f-4c0a-e3cc-e138ea55b157"
      },
      "execution_count": null,
      "outputs": [
        {
          "output_type": "stream",
          "name": "stdout",
          "text": [
            "Execution Time :  0.015459060668945312\n"
          ]
        }
      ]
    }
  ]
}