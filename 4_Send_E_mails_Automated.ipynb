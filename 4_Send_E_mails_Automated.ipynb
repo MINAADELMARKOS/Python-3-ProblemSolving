{
  "nbformat": 4,
  "nbformat_minor": 0,
  "metadata": {
    "colab": {
      "provenance": [],
      "authorship_tag": "ABX9TyOXV/IU5iLm67lAm4yyo3MU",
      "include_colab_link": true
    },
    "kernelspec": {
      "name": "python3",
      "display_name": "Python 3"
    },
    "language_info": {
      "name": "python"
    }
  },
  "cells": [
    {
      "cell_type": "markdown",
      "metadata": {
        "id": "view-in-github",
        "colab_type": "text"
      },
      "source": [
        "<a href=\"https://colab.research.google.com/github/MINAADELMARKOS/Python-3-ProblemSolving/blob/main/4_Send_E_mails_Automated.ipynb\" target=\"_parent\"><img src=\"https://colab.research.google.com/assets/colab-badge.svg\" alt=\"Open In Colab\"/></a>"
      ]
    },
    {
      "cell_type": "markdown",
      "source": [
        "# **How to Send Automatic Emails using Python?**\n",
        "\n",
        "To send automatic emails using Python, you must first understand how to send an email using the Python programming language. Once you know how to send an email using Python, the next thing you need to figure out is what you want to send automatically. For example, many companies send OTP or welcome messages, while some companies even send newsletters to newly registered users.\n",
        "\n",
        "So in the section below, I will take you through how to send automatic emails using Python. I will automatically send a welcome message to the newly registered user. For this task, you must first generate a google app password for your Gmail account. If you don’t know how to generate it, you can learn more from the video below.\n",
        "\n",
        "\n",
        "# **What is Starttls () Python?**\n",
        "Several protocols use a command named STARTTLS for this purpose. It is primarily intended as a countermeasure to passive monitoring. The example sends an email to a Mailtrap account with opportunistic TLS. The starttls puts the connection to the SMTP server into TLS mode\n",
        "\n",
        "\n",
        "# **Fill out the required fields according to the instructions below:**\n",
        "+ SMTP server: smtp.gmail.com.\n",
        "+ SMTP port: 587.\n",
        "+ Authentication required: Tick the checkbox. ...\n",
        "+ Secure connection (SSL/TLS) is required: Tick the checkbox.\n",
        "+ Sender name: Enter a name as you like. ...\n",
        "+ Sender email: Enter your Gmail address."
      ],
      "metadata": {
        "id": "7FUjbe_c820g"
      }
    },
    {
      "cell_type": "code",
      "source": [
        "import os\n",
        "import random\n",
        "import smtplib"
      ],
      "metadata": {
        "id": "txSmRTE3Hdyk"
      },
      "execution_count": null,
      "outputs": []
    },
    {
      "cell_type": "code",
      "source": [
        "def automated_email():\n",
        "\n",
        "  user_name = str(input(\"Please write your Name : \"))\n",
        "  ent_email = str(input(\"Please write your E-mail : \"))\n",
        "  message = (f\"Dear {user_name}, Welcome to Thecleverprogrammer\")\n",
        "  s = smtplib.SMTP('smtp.gmail.com',587)\n",
        "  s.starttls()\n",
        "  s.login(\"Your Gmail Account\", \"Your App Password\")\n",
        "  s.sendmail('&&&&&&&&&&&', email, message)\n",
        "  print(\"Email Sent!\")"
      ],
      "metadata": {
        "id": "LlzJisauHo2l"
      },
      "execution_count": null,
      "outputs": []
    },
    {
      "cell_type": "code",
      "execution_count": null,
      "metadata": {
        "colab": {
          "base_uri": "https://localhost:8080/"
        },
        "id": "Wm2tVr9271IC",
        "outputId": "ff3dc981-d1dd-41ea-e81a-61a2e9909dd7"
      },
      "outputs": [
        {
          "output_type": "stream",
          "name": "stdout",
          "text": [
            "Please write your email : mina.markos6565@gmail.com\n",
            "Welcome mina.markos6565 \n"
          ]
        }
      ],
      "source": [
        "ent_email = str(input(\"Please write your email : \"))\n",
        "\n",
        "user_name = ent_email.split('@')[0]\n",
        "\n",
        "print(f\"Welcome {user_name} \")"
      ]
    },
    {
      "cell_type": "code",
      "source": [
        "v = 'mina.markos6565@gmail.com'"
      ],
      "metadata": {
        "id": "FFgIxq_C9Irf"
      },
      "execution_count": null,
      "outputs": []
    },
    {
      "cell_type": "code",
      "source": [
        "v.split('@')[0]"
      ],
      "metadata": {
        "colab": {
          "base_uri": "https://localhost:8080/",
          "height": 36
        },
        "id": "G2E8gJ8W9RYo",
        "outputId": "216240c6-64e8-4f4f-f297-d5964d4869a1"
      },
      "execution_count": null,
      "outputs": [
        {
          "output_type": "execute_result",
          "data": {
            "text/plain": [
              "'mina.markos6565'"
            ],
            "application/vnd.google.colaboratory.intrinsic+json": {
              "type": "string"
            }
          },
          "metadata": {},
          "execution_count": 4
        }
      ]
    }
  ]
}